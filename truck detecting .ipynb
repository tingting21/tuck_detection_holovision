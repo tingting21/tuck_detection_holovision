{
 "cells": [
  {
   "cell_type": "code",
   "execution_count": 29,
   "metadata": {},
   "outputs": [],
   "source": [
    "import cv2\n",
    "import numpy as np\n",
    "\n",
    "\n",
    "#source path\n",
    "video = r'/C:/Users/n10651144/OneDrive - Queensland University of Technology/Documents/Holovision project/truck detection project/video.avi'\n",
    "\n",
    "#turn on video\n",
    "cap = cv2.VideoCapture(video)"
   ]
  },
  {
   "cell_type": "code",
   "execution_count": 31,
   "metadata": {},
   "outputs": [],
   "source": [
    "#Check the video is opened or not\n",
    "if (cap.isOpened()== False):\n",
    "    print(\"Error opening video stream or file\")\n",
    "    \n",
    "# Trained XML classifiers describes some featcars\n",
    "cars_classifier = cv2.CascadeClassifier(cv2.data.haarcascades + 'cars.xml')\n",
    "assert not cars_classifier.empty()\n",
    "\n",
    "\n",
    "while(cap.isOpened()):\n",
    "    #capture frame by frame\n",
    "    ret, frames = cap.read()\n",
    "    #frame_count += 1\n",
    "    #orig_frame = frame.copy()\n",
    "\n",
    "    \n",
    "    if ret is False:\n",
    "        break\n",
    "        \n",
    "    #convert to gray scale of each frames\n",
    "    gray = cv2.cvtColor(frames, cv2.COLOR_BGR2GRAY)\n",
    "    \n",
    "    #Detects cars of different sizes in the input image\n",
    "    cars_detect = cars_classifier.detectMultiScale(gray, 1.1, 1)\n",
    "    \n",
    "    car_detect_append = []\n",
    "    #draw a rectangle of the car\n",
    "    for (x,y,w,h) in cars_detect:\n",
    "        x = int(x)\n",
    "        y = int(y)\n",
    "        w = int(w)\n",
    "        h = int(h)\n",
    "        cv2.rectangle(frames,(x,y),(x+w,y+h),(0,255,0),2)\n",
    "        #cars_detect_append = np.append(cars_detect_append,(x,y,w,h))\n",
    "        \n",
    "        #display video frame\n",
    "        cv2.imshow('video',frames)\n",
    "        \n",
    "        #for (old_xywh) in old_trackers.items():\n",
    "            #for (new_xywh) in new_trackers.items():\n",
    "                #if (old_xywh == new_xywh):\n",
    "                    #draw the box to red colour \n",
    "                    #cv2.rectangle(frames,(x,y),(x+w,y+h),(0,0,255),2)\n",
    "    \n",
    "    #Function compares coords on the certain car's box on N and N+1 frames\n",
    "    # It returns a list of cars that are,not moving\n",
    "\n",
    "    #wait for key to stop\n",
    "    if cv2.waitKey(33) == 27:\n",
    "        break\n",
    "\n",
    "      \n",
    "cv2.destroyAllWindows()\n",
    "\n"
   ]
  },
  {
   "cell_type": "code",
   "execution_count": null,
   "metadata": {},
   "outputs": [],
   "source": [
    "#capture image per 30 frame(every seconds)\n",
    "Framefrequency = 30"
   ]
  },
  {
   "cell_type": "code",
   "execution_count": null,
   "metadata": {},
   "outputs": [],
   "source": [
    "#automation number plate recognition"
   ]
  },
  {
   "cell_type": "code",
   "execution_count": null,
   "metadata": {},
   "outputs": [],
   "source": [
    "#Function compares coords on the certain truck's box on N and N+1 frames\n",
    "#It returns a list of truck that are not moving\n",
    "stop_time = 0\n",
    "\n",
    "def compare_trackers(old_trackers, new_trackers,frame):\n",
    "        for (old_xywh) in old_trackers.items():\n",
    "            for (new_xywh) in new_trackers.items():\n",
    "                if (old_xywh == new_xywh):\n",
    "                    #draw the box to red colour \n",
    "                    cv2.rectangle(frames,(x,y),(x+w,y+h),(0,0,255),2)\n",
    "                    stop_time += 1\n",
    "                    #when the trucks start to move,calculate the total stop_time\n",
    "    return stop_time \n"
   ]
  },
  {
   "cell_type": "code",
   "execution_count": null,
   "metadata": {},
   "outputs": [],
   "source": [
    "#define each frame "
   ]
  },
  {
   "cell_type": "code",
   "execution_count": 24,
   "metadata": {},
   "outputs": [],
   "source": [
    "#delete no need to save each frames as image \n",
    "import cv2\n",
    "import numpy as np\n",
    "import matplotlib.pyplot as plt\n",
    "\n",
    "\n",
    "#source path\n",
    "video = r'/C:/Users/n10651144/OneDrive - Queensland University of Technology/Documents/Holovision project/truck detection project/video.avi'\n",
    "\n",
    "#turn on video\n",
    "cap = cv2.VideoCapture(video)\n",
    "\n",
    "\n",
    "frame_count = 0\n",
    "frame_count += 1\n",
    "orig_frame = frame.copy()\n",
    "while(cap.isOpened()):\n",
    "    #capture frame by frame\n",
    "    ret, frames = cap.read()\n",
    "    \n",
    "    if ret is False:\n",
    "        break\n",
    "    \n",
    "  \n"
   ]
  },
  {
   "cell_type": "code",
   "execution_count": null,
   "metadata": {},
   "outputs": [],
   "source": []
  }
 ],
 "metadata": {
  "kernelspec": {
   "display_name": "Python 3",
   "language": "python",
   "name": "python3"
  },
  "language_info": {
   "codemirror_mode": {
    "name": "ipython",
    "version": 3
   },
   "file_extension": ".py",
   "mimetype": "text/x-python",
   "name": "python",
   "nbconvert_exporter": "python",
   "pygments_lexer": "ipython3",
   "version": "3.7.6"
  }
 },
 "nbformat": 4,
 "nbformat_minor": 4
}
